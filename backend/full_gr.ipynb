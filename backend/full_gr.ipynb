{
 "cells": [
  {
   "cell_type": "code",
   "execution_count": 1,
   "metadata": {},
   "outputs": [
    {
     "name": "stdout",
     "output_type": "stream",
     "text": [
      "Note: you may need to restart the kernel to use updated packages.\n"
     ]
    },
    {
     "name": "stderr",
     "output_type": "stream",
     "text": [
      "\n",
      "[notice] A new release of pip is available: 24.0 -> 24.1.1\n",
      "[notice] To update, run: python.exe -m pip install --upgrade pip\n"
     ]
    }
   ],
   "source": [
    "%pip install --upgrade --quiet  langchain langchain-community langchain-openai langchain-experimental neo4j wikipedia tiktoken yfiles_jupyter_graphs"
   ]
  },
  {
   "cell_type": "code",
   "execution_count": 21,
   "metadata": {},
   "outputs": [],
   "source": [
    "import os\n",
    "NEO4J_URI=\"neo4j+s://c24a04a8.databases.neo4j.io\"\n",
    "NEO4J_USERNAME=\"neo4j\"\n",
    "NEO4J_PASSWORD=\"TIEXesTzQ3V72Od9m-64Kpvd6AxVw8uB4fyvYODD_Jk\"\n",
    "AURA_INSTANCEID=\"c24a04a8\"\n",
    "AURA_INSTANCENAME=\"Instance01\"\n",
    "\n",
    "\n",
    "os.environ[\"NEO4J_URI\"] = NEO4J_URI\n",
    "os.environ[\"NEO4J_USERNAME\"] = NEO4J_USERNAME\n",
    "os.environ[\"NEO4J_PASSWORD\"] = NEO4J_PASSWORD"
   ]
  },
  {
   "cell_type": "code",
   "execution_count": 31,
   "metadata": {},
   "outputs": [
    {
     "name": "stderr",
     "output_type": "stream",
     "text": [
      "C:\\Users\\Abhay\\AppData\\Local\\Temp\\ipykernel_14988\\2321903401.py:1: DeprecationWarning: Importing Config from neo4j is deprecated without replacement. It's internal and will be removed in a future version.\n",
      "  from neo4j import GraphDatabase, basic_auth, Config\n"
     ]
    },
    {
     "name": "stdout",
     "output_type": "stream",
     "text": [
      "<Record n=<Node element_id='4:20486f6b-482c-410c-9388-f91760efa1d7:0' labels=frozenset({'Person'}) properties={'name': 'Alice', 'age': 30}>>\n",
      "<Record n=<Node element_id='4:20486f6b-482c-410c-9388-f91760efa1d7:1' labels=frozenset({'Person'}) properties={'name': 'Bob', 'age': 25}>>\n",
      "<Record n=<Node element_id='4:20486f6b-482c-410c-9388-f91760efa1d7:2' labels=frozenset({'Person'}) properties={'name': 'Alice', 'age': 30}>>\n",
      "<Record n=<Node element_id='4:20486f6b-482c-410c-9388-f91760efa1d7:3' labels=frozenset({'Person'}) properties={'name': 'Bob', 'age': 25}>>\n",
      "<Record n=<Node element_id='4:20486f6b-482c-410c-9388-f91760efa1d7:4' labels=frozenset({'Person'}) properties={'name': 'Alice', 'age': 30}>>\n"
     ]
    }
   ],
   "source": [
    "from neo4j import GraphDatabase, basic_auth, Config\n",
    "import ssl\n",
    "NEO4J_URI=\"bolt://c24a04a8.databases.neo4j.io\"\n",
    "NEO4J_USERNAME=\"neo4j\"\n",
    "NEO4J_PASSWORD=\"TIEXesTzQ3V72Od9m-64Kpvd6AxVw8uB4fyvYODD_Jk\"\n",
    "\n",
    "ssl_context = ssl.create_default_context()\n",
    "ssl_context.check_hostname = False\n",
    "ssl_context.verify_mode = ssl.CERT_NONE\n",
    "\n",
    "# Initialize Neo4j driver with SSL context\n",
    "driver = GraphDatabase.driver(NEO4J_URI, auth=basic_auth(NEO4J_USERNAME, NEO4J_PASSWORD), encrypted=True, ssl_context=ssl_context)\n",
    "\n",
    "# Example query\n",
    "def run_query(query):\n",
    "    with driver.session() as session:\n",
    "        result = session.run(query)\n",
    "        return [record for record in result]\n",
    "\n",
    "# Example usage\n",
    "try:\n",
    "    query = \"MATCH (n) RETURN n LIMIT 5\"\n",
    "    results = run_query(query)\n",
    "    for record in results:\n",
    "        print(record)\n",
    "finally:\n",
    "    driver.close()"
   ]
  }
 ],
 "metadata": {
  "kernelspec": {
   "display_name": "venv",
   "language": "python",
   "name": "python3"
  },
  "language_info": {
   "codemirror_mode": {
    "name": "ipython",
    "version": 3
   },
   "file_extension": ".py",
   "mimetype": "text/x-python",
   "name": "python",
   "nbconvert_exporter": "python",
   "pygments_lexer": "ipython3",
   "version": "3.12.3"
  }
 },
 "nbformat": 4,
 "nbformat_minor": 2
}
