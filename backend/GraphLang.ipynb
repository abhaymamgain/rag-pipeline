{
 "cells": [
  {
   "cell_type": "code",
   "execution_count": 1,
   "metadata": {},
   "outputs": [
    {
     "name": "stdout",
     "output_type": "stream",
     "text": [
      "Requirement already satisfied: neo4j in d:\\abhay\\work\\projects\\test\\rag-pipeline\\venv\\lib\\site-packages (5.21.0)\n",
      "Requirement already satisfied: pytz in d:\\abhay\\work\\projects\\test\\rag-pipeline\\venv\\lib\\site-packages (from neo4j) (2024.1)\n",
      "Note: you may need to restart the kernel to use updated packages.\n"
     ]
    },
    {
     "name": "stderr",
     "output_type": "stream",
     "text": [
      "\n",
      "[notice] A new release of pip is available: 24.0 -> 24.1.1\n",
      "[notice] To update, run: python.exe -m pip install --upgrade pip\n"
     ]
    }
   ],
   "source": [
    "%pip install neo4j"
   ]
  },
  {
   "cell_type": "code",
   "execution_count": 1,
   "metadata": {},
   "outputs": [
    {
     "name": "stdout",
     "output_type": "stream",
     "text": [
      "Requirement already satisfied: faiss-cpu in d:\\abhay\\work\\projects\\test\\rag-pipeline\\venv\\lib\\site-packages (1.8.0.post1)\n",
      "Requirement already satisfied: numpy<2.0,>=1.0 in d:\\abhay\\work\\projects\\test\\rag-pipeline\\venv\\lib\\site-packages (from faiss-cpu) (1.26.4)\n",
      "Requirement already satisfied: packaging in d:\\abhay\\work\\projects\\test\\rag-pipeline\\venv\\lib\\site-packages (from faiss-cpu) (23.2)\n",
      "Note: you may need to restart the kernel to use updated packages.\n"
     ]
    },
    {
     "name": "stderr",
     "output_type": "stream",
     "text": [
      "\n",
      "[notice] A new release of pip is available: 24.0 -> 24.1.1\n",
      "[notice] To update, run: python.exe -m pip install --upgrade pip\n"
     ]
    }
   ],
   "source": [
    "import llm_calls as lc\n",
    "from time import sleep\n",
    "%pip install faiss-cpu\n"
   ]
  },
  {
   "cell_type": "code",
   "execution_count": 3,
   "metadata": {},
   "outputs": [
    {
     "name": "stderr",
     "output_type": "stream",
     "text": [
      "C:\\Users\\Abhay\\AppData\\Local\\Temp\\ipykernel_3516\\1341383620.py:1: DeprecationWarning: Importing Config from neo4j is deprecated without replacement. It's internal and will be removed in a future version.\n",
      "  from neo4j import GraphDatabase, basic_auth, Config\n",
      "C:\\Users\\Abhay\\AppData\\Local\\Temp\\ipykernel_3516\\1341383620.py:29: DeprecationWarning: write_transaction has been renamed to execute_write\n",
      "  session.write_transaction(create_node, \"Person\", {\"name\": \"Alice\", \"age\": 30})\n",
      "C:\\Users\\Abhay\\AppData\\Local\\Temp\\ipykernel_3516\\1341383620.py:30: DeprecationWarning: write_transaction has been renamed to execute_write\n",
      "  session.write_transaction(create_node, \"Person\", {\"name\": \"Bob\", \"age\": 25})\n",
      "C:\\Users\\Abhay\\AppData\\Local\\Temp\\ipykernel_3516\\1341383620.py:31: DeprecationWarning: write_transaction has been renamed to execute_write\n",
      "  session.write_transaction(create_relationship, \"Person\", {\"name\": \"Alice\"}, \"Person\", {\"name\": \"Bob\"}, \"KNOWS\")\n"
     ]
    }
   ],
   "source": [
    "from neo4j import GraphDatabase, basic_auth, Config\n",
    "import ssl\n",
    "import logging\n",
    "uri = \"bolt://c24a04a8.databases.neo4j.io:7687\"\n",
    "username = \"neo4j\"\n",
    "password = \"TIEXesTzQ3V72Od9m-64Kpvd6AxVw8uB4fyvYODD_Jk\"\n",
    "\n",
    "# Create a custom SSL context that skips verification\n",
    "ssl_context = ssl.create_default_context()\n",
    "ssl_context.check_hostname = False\n",
    "ssl_context.verify_mode = ssl.CERT_NONE\n",
    "\n",
    "# Connect to Neo4j using the custom SSL context\n",
    "driver = GraphDatabase.driver(uri, auth=basic_auth(username, password), encrypted=True, ssl_context=ssl_context)\n",
    "\n",
    "def create_node(tx, label, properties):\n",
    "    query = f\"CREATE (n:{label} {{ {', '.join([f'{k}: ${k}' for k in properties.keys()])} }})\"\n",
    "    tx.run(query, **properties)\n",
    "\n",
    "def create_relationship(tx, start_label, start_properties, end_label, end_properties, relationship):\n",
    "    start_query = f\"MATCH (a:{start_label} {{ {', '.join([f'{k}: ${k}' for k in start_properties.keys()])} }})\"\n",
    "    end_query = f\"MATCH (b:{end_label} {{ {', '.join([f'{k}: ${k}' for k in end_properties.keys()])} }})\"\n",
    "    rel_query = f\"CREATE (a)-[:{relationship}]->(b)\"\n",
    "    query = f\"{start_query} {end_query} {rel_query}\"\n",
    "    tx.run(query, **{**start_properties, **end_properties})\n",
    "\n",
    "try:\n",
    "    with driver.session() as session:\n",
    "        session.write_transaction(create_node, \"Person\", {\"name\": \"Alice\", \"age\": 30})\n",
    "        session.write_transaction(create_node, \"Person\", {\"name\": \"Bob\", \"age\": 25})\n",
    "        session.write_transaction(create_relationship, \"Person\", {\"name\": \"Alice\"}, \"Person\", {\"name\": \"Bob\"}, \"KNOWS\")\n",
    "except Exception as e:\n",
    "    logging.error(f\"Error connecting to Neo4j: {e}\")\n",
    "finally:\n",
    "    if driver:\n",
    "        driver.close()\n"
   ]
  },
  {
   "cell_type": "code",
   "execution_count": 5,
   "metadata": {},
   "outputs": [
    {
     "name": "stdout",
     "output_type": "stream",
     "text": [
      "(array([[ 0,  1,  2, -1, -1]], dtype=int64), array([[0.0000000e+00, 3.0000000e+00, 1.2000000e+01, 3.4028235e+38,\n",
      "        3.4028235e+38]], dtype=float32))\n"
     ]
    }
   ],
   "source": [
    "import faiss\n",
    "import numpy as np\n",
    "\n",
    "# Sample data for FAISS\n",
    "data = np.array([\n",
    "    [1.0, 2.0, 3.0],\n",
    "    [2.0, 3.0, 4.0],\n",
    "    [3.0, 4.0, 5.0],\n",
    "]).astype('float32')\n",
    "\n",
    "# Create the FAISS index\n",
    "index = faiss.IndexFlatL2(data.shape[1])  # L2 distance\n",
    "\n",
    "# Add data to the index\n",
    "index.add(data)\n",
    "\n",
    "# Function to search in FAISS index\n",
    "def search_faiss(query_vector, k=5):\n",
    "    distances, indices = index.search(np.array([query_vector]).astype('float32'), k)\n",
    "    return indices, distances\n",
    "\n",
    "# Example query\n",
    "query_vector = [1.0, 2.0, 3.0]\n",
    "print(search_faiss(query_vector))\n",
    "\n",
    "\n"
   ]
  },
  {
   "cell_type": "code",
   "execution_count": null,
   "metadata": {},
   "outputs": [
    {
     "name": "stderr",
     "output_type": "stream",
     "text": [
      "d:\\abhay\\Work\\projects\\test\\rag-pipeline\\venv\\Lib\\site-packages\\tqdm\\auto.py:21: TqdmWarning: IProgress not found. Please update jupyter and ipywidgets. See https://ipywidgets.readthedocs.io/en/stable/user_install.html\n",
      "  from .autonotebook import tqdm as notebook_tqdm\n"
     ]
    },
    {
     "ename": "",
     "evalue": "",
     "output_type": "error",
     "traceback": [
      "\u001b[1;31mThe Kernel crashed while executing code in the current cell or a previous cell. \n",
      "\u001b[1;31mPlease review the code in the cell(s) to identify a possible cause of the failure. \n",
      "\u001b[1;31mClick <a href='https://aka.ms/vscodeJupyterKernelCrash'>here</a> for more info. \n",
      "\u001b[1;31mView Jupyter <a href='command:jupyter.viewOutput'>log</a> for further details."
     ]
    }
   ],
   "source": [
    "\n",
    "from transformers import pipeline\n",
    "\n",
    "retriever = pipeline(\"feature-extraction\", model=\"bert-base-uncased\", tokenizer=\"bert-base-uncased\")\n",
    "\n",
    "\n",
    "def rag_pipeline(query):\n",
    "    # Extract features for the query\n",
    "    query_vector = retriever(query)[0]\n",
    "\n",
    "    # Retrieve relevant data using FAISS\n",
    "    indices, distances = search_faiss(query_vector, k=5)\n",
    "    context = \" \".join([str(data[idx]) for idx in indices[0]])\n",
    "\n",
    "    # Generate response using the context\n",
    "    response = lc.llm_generate(f\"Question: {query} Context: {context}\", max_length=512)\n",
    "    return response[0]['generated_text']\n",
    "\n",
    "# Example usage\n",
    "query = \"Tell me about Alice\"\n",
    "print(rag_pipeline(query))\n",
    "\n"
   ]
  },
  {
   "cell_type": "code",
   "execution_count": null,
   "metadata": {},
   "outputs": [],
   "source": []
  }
 ],
 "metadata": {
  "kernelspec": {
   "display_name": "venv",
   "language": "python",
   "name": "python3"
  },
  "language_info": {
   "codemirror_mode": {
    "name": "ipython",
    "version": 3
   },
   "file_extension": ".py",
   "mimetype": "text/x-python",
   "name": "python",
   "nbconvert_exporter": "python",
   "pygments_lexer": "ipython3",
   "version": "3.12.3"
  }
 },
 "nbformat": 4,
 "nbformat_minor": 2
}
