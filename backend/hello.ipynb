{
 "cells": [
  {
   "cell_type": "code",
   "execution_count": 1,
   "metadata": {},
   "outputs": [
    {
     "name": "stdout",
     "output_type": "stream",
     "text": [
      "Requirement already satisfied: spacy in d:\\abhay\\work\\projects\\test\\rag-pipeline\\venv\\lib\\site-packages (3.7.5)\n",
      "Requirement already satisfied: pymupdf in d:\\abhay\\work\\projects\\test\\rag-pipeline\\venv\\lib\\site-packages (1.24.5)\n",
      "Requirement already satisfied: spacy-legacy<3.1.0,>=3.0.11 in d:\\abhay\\work\\projects\\test\\rag-pipeline\\venv\\lib\\site-packages (from spacy) (3.0.12)\n",
      "Requirement already satisfied: spacy-loggers<2.0.0,>=1.0.0 in d:\\abhay\\work\\projects\\test\\rag-pipeline\\venv\\lib\\site-packages (from spacy) (1.0.5)\n",
      "Requirement already satisfied: murmurhash<1.1.0,>=0.28.0 in d:\\abhay\\work\\projects\\test\\rag-pipeline\\venv\\lib\\site-packages (from spacy) (1.0.10)\n",
      "Requirement already satisfied: cymem<2.1.0,>=2.0.2 in d:\\abhay\\work\\projects\\test\\rag-pipeline\\venv\\lib\\site-packages (from spacy) (2.0.8)\n",
      "Requirement already satisfied: preshed<3.1.0,>=3.0.2 in d:\\abhay\\work\\projects\\test\\rag-pipeline\\venv\\lib\\site-packages (from spacy) (3.0.9)\n",
      "Requirement already satisfied: thinc<8.3.0,>=8.2.2 in d:\\abhay\\work\\projects\\test\\rag-pipeline\\venv\\lib\\site-packages (from spacy) (8.2.5)\n",
      "Requirement already satisfied: wasabi<1.2.0,>=0.9.1 in d:\\abhay\\work\\projects\\test\\rag-pipeline\\venv\\lib\\site-packages (from spacy) (1.1.3)\n",
      "Requirement already satisfied: srsly<3.0.0,>=2.4.3 in d:\\abhay\\work\\projects\\test\\rag-pipeline\\venv\\lib\\site-packages (from spacy) (2.4.8)\n",
      "Requirement already satisfied: catalogue<2.1.0,>=2.0.6 in d:\\abhay\\work\\projects\\test\\rag-pipeline\\venv\\lib\\site-packages (from spacy) (2.0.10)\n",
      "Requirement already satisfied: weasel<0.5.0,>=0.1.0 in d:\\abhay\\work\\projects\\test\\rag-pipeline\\venv\\lib\\site-packages (from spacy) (0.4.1)\n",
      "Requirement already satisfied: typer<1.0.0,>=0.3.0 in d:\\abhay\\work\\projects\\test\\rag-pipeline\\venv\\lib\\site-packages (from spacy) (0.12.3)\n",
      "Requirement already satisfied: tqdm<5.0.0,>=4.38.0 in d:\\abhay\\work\\projects\\test\\rag-pipeline\\venv\\lib\\site-packages (from spacy) (4.66.4)\n",
      "Requirement already satisfied: requests<3.0.0,>=2.13.0 in d:\\abhay\\work\\projects\\test\\rag-pipeline\\venv\\lib\\site-packages (from spacy) (2.32.3)\n",
      "Requirement already satisfied: pydantic!=1.8,!=1.8.1,<3.0.0,>=1.7.4 in d:\\abhay\\work\\projects\\test\\rag-pipeline\\venv\\lib\\site-packages (from spacy) (2.7.3)\n",
      "Requirement already satisfied: jinja2 in d:\\abhay\\work\\projects\\test\\rag-pipeline\\venv\\lib\\site-packages (from spacy) (3.1.4)\n",
      "Requirement already satisfied: setuptools in d:\\abhay\\work\\projects\\test\\rag-pipeline\\venv\\lib\\site-packages (from spacy) (70.0.0)\n",
      "Requirement already satisfied: packaging>=20.0 in d:\\abhay\\work\\projects\\test\\rag-pipeline\\venv\\lib\\site-packages (from spacy) (23.2)\n",
      "Requirement already satisfied: langcodes<4.0.0,>=3.2.0 in d:\\abhay\\work\\projects\\test\\rag-pipeline\\venv\\lib\\site-packages (from spacy) (3.4.0)\n",
      "Requirement already satisfied: numpy>=1.19.0 in d:\\abhay\\work\\projects\\test\\rag-pipeline\\venv\\lib\\site-packages (from spacy) (1.26.4)\n",
      "Requirement already satisfied: PyMuPDFb==1.24.3 in d:\\abhay\\work\\projects\\test\\rag-pipeline\\venv\\lib\\site-packages (from pymupdf) (1.24.3)\n",
      "Requirement already satisfied: language-data>=1.2 in d:\\abhay\\work\\projects\\test\\rag-pipeline\\venv\\lib\\site-packages (from langcodes<4.0.0,>=3.2.0->spacy) (1.2.0)\n",
      "Requirement already satisfied: annotated-types>=0.4.0 in d:\\abhay\\work\\projects\\test\\rag-pipeline\\venv\\lib\\site-packages (from pydantic!=1.8,!=1.8.1,<3.0.0,>=1.7.4->spacy) (0.7.0)\n",
      "Requirement already satisfied: pydantic-core==2.18.4 in d:\\abhay\\work\\projects\\test\\rag-pipeline\\venv\\lib\\site-packages (from pydantic!=1.8,!=1.8.1,<3.0.0,>=1.7.4->spacy) (2.18.4)\n",
      "Requirement already satisfied: typing-extensions>=4.6.1 in d:\\abhay\\work\\projects\\test\\rag-pipeline\\venv\\lib\\site-packages (from pydantic!=1.8,!=1.8.1,<3.0.0,>=1.7.4->spacy) (4.12.2)\n",
      "Requirement already satisfied: charset-normalizer<4,>=2 in d:\\abhay\\work\\projects\\test\\rag-pipeline\\venv\\lib\\site-packages (from requests<3.0.0,>=2.13.0->spacy) (3.3.2)\n",
      "Requirement already satisfied: idna<4,>=2.5 in d:\\abhay\\work\\projects\\test\\rag-pipeline\\venv\\lib\\site-packages (from requests<3.0.0,>=2.13.0->spacy) (3.7)\n",
      "Requirement already satisfied: urllib3<3,>=1.21.1 in d:\\abhay\\work\\projects\\test\\rag-pipeline\\venv\\lib\\site-packages (from requests<3.0.0,>=2.13.0->spacy) (2.2.1)\n",
      "Requirement already satisfied: certifi>=2017.4.17 in d:\\abhay\\work\\projects\\test\\rag-pipeline\\venv\\lib\\site-packages (from requests<3.0.0,>=2.13.0->spacy) (2024.6.2)\n",
      "Requirement already satisfied: blis<0.8.0,>=0.7.8 in d:\\abhay\\work\\projects\\test\\rag-pipeline\\venv\\lib\\site-packages (from thinc<8.3.0,>=8.2.2->spacy) (0.7.11)\n",
      "Requirement already satisfied: confection<1.0.0,>=0.0.1 in d:\\abhay\\work\\projects\\test\\rag-pipeline\\venv\\lib\\site-packages (from thinc<8.3.0,>=8.2.2->spacy) (0.1.5)\n",
      "Requirement already satisfied: colorama in d:\\abhay\\work\\projects\\test\\rag-pipeline\\venv\\lib\\site-packages (from tqdm<5.0.0,>=4.38.0->spacy) (0.4.6)\n",
      "Requirement already satisfied: click>=8.0.0 in d:\\abhay\\work\\projects\\test\\rag-pipeline\\venv\\lib\\site-packages (from typer<1.0.0,>=0.3.0->spacy) (8.1.7)\n",
      "Requirement already satisfied: shellingham>=1.3.0 in d:\\abhay\\work\\projects\\test\\rag-pipeline\\venv\\lib\\site-packages (from typer<1.0.0,>=0.3.0->spacy) (1.5.4)\n",
      "Requirement already satisfied: rich>=10.11.0 in d:\\abhay\\work\\projects\\test\\rag-pipeline\\venv\\lib\\site-packages (from typer<1.0.0,>=0.3.0->spacy) (13.7.1)\n",
      "Requirement already satisfied: cloudpathlib<1.0.0,>=0.7.0 in d:\\abhay\\work\\projects\\test\\rag-pipeline\\venv\\lib\\site-packages (from weasel<0.5.0,>=0.1.0->spacy) (0.18.1)\n",
      "Requirement already satisfied: smart-open<8.0.0,>=5.2.1 in d:\\abhay\\work\\projects\\test\\rag-pipeline\\venv\\lib\\site-packages (from weasel<0.5.0,>=0.1.0->spacy) (7.0.4)\n",
      "Requirement already satisfied: MarkupSafe>=2.0 in d:\\abhay\\work\\projects\\test\\rag-pipeline\\venv\\lib\\site-packages (from jinja2->spacy) (2.1.5)\n",
      "Requirement already satisfied: marisa-trie>=0.7.7 in d:\\abhay\\work\\projects\\test\\rag-pipeline\\venv\\lib\\site-packages (from language-data>=1.2->langcodes<4.0.0,>=3.2.0->spacy) (1.2.0)\n",
      "Requirement already satisfied: markdown-it-py>=2.2.0 in d:\\abhay\\work\\projects\\test\\rag-pipeline\\venv\\lib\\site-packages (from rich>=10.11.0->typer<1.0.0,>=0.3.0->spacy) (3.0.0)\n",
      "Requirement already satisfied: pygments<3.0.0,>=2.13.0 in d:\\abhay\\work\\projects\\test\\rag-pipeline\\venv\\lib\\site-packages (from rich>=10.11.0->typer<1.0.0,>=0.3.0->spacy) (2.18.0)\n",
      "Requirement already satisfied: wrapt in d:\\abhay\\work\\projects\\test\\rag-pipeline\\venv\\lib\\site-packages (from smart-open<8.0.0,>=5.2.1->weasel<0.5.0,>=0.1.0->spacy) (1.16.0)\n",
      "Requirement already satisfied: mdurl~=0.1 in d:\\abhay\\work\\projects\\test\\rag-pipeline\\venv\\lib\\site-packages (from markdown-it-py>=2.2.0->rich>=10.11.0->typer<1.0.0,>=0.3.0->spacy) (0.1.2)\n",
      "Note: you may need to restart the kernel to use updated packages.\n"
     ]
    },
    {
     "name": "stderr",
     "output_type": "stream",
     "text": [
      "\n",
      "[notice] A new release of pip is available: 24.0 -> 24.1.1\n",
      "[notice] To update, run: python.exe -m pip install --upgrade pip\n"
     ]
    }
   ],
   "source": [
    "%pip install spacy pymupdf"
   ]
  },
  {
   "cell_type": "code",
   "execution_count": 2,
   "metadata": {},
   "outputs": [],
   "source": [
    "import os\n",
    "import pymupdf  # PyMuPDF\n",
    "import spacy\n",
    "\n",
    "# Load SpaCy model\n",
    "nlp = spacy.load(\"en_core_web_sm\")\n",
    "\n",
    "def extract_text_from_pdf(pdf_path):\n",
    "    text = \"\"\n",
    "    with pymupdf.open(pdf_path) as doc:\n",
    "        for page in doc:\n",
    "            text += page.get_text()\n",
    "    return text\n",
    "\n",
    "def extract_entities(text):\n",
    "    doc = nlp(text)\n",
    "    entities = [(ent.text, ent.label_) for ent in doc.ents]\n",
    "    return entities\n",
    "\n",
    "def process_documents_in_folder(folder_path):\n",
    "    processed_docs = []\n",
    "    for filename in os.listdir(folder_path):\n",
    "        if filename.endswith(\".pdf\"):\n",
    "            pdf_path = os.path.join(folder_path, filename)\n",
    "            text = extract_text_from_pdf(pdf_path)\n",
    "            entities = extract_entities(text)\n",
    "            processed_docs.append((pdf_path, entities))\n",
    "    return processed_docs\n"
   ]
  },
  {
   "cell_type": "code",
   "execution_count": 3,
   "metadata": {},
   "outputs": [
    {
     "name": "stdout",
     "output_type": "stream",
     "text": [
      "Requirement already satisfied: py2neo in d:\\abhay\\work\\projects\\test\\rag-pipeline\\venv\\lib\\site-packages (2021.2.4)\n",
      "Requirement already satisfied: certifi in d:\\abhay\\work\\projects\\test\\rag-pipeline\\venv\\lib\\site-packages (from py2neo) (2024.6.2)\n",
      "Requirement already satisfied: interchange~=2021.0.4 in d:\\abhay\\work\\projects\\test\\rag-pipeline\\venv\\lib\\site-packages (from py2neo) (2021.0.4)\n",
      "Requirement already satisfied: monotonic in d:\\abhay\\work\\projects\\test\\rag-pipeline\\venv\\lib\\site-packages (from py2neo) (1.6)\n",
      "Requirement already satisfied: packaging in d:\\abhay\\work\\projects\\test\\rag-pipeline\\venv\\lib\\site-packages (from py2neo) (23.2)\n",
      "Requirement already satisfied: pansi>=2020.7.3 in d:\\abhay\\work\\projects\\test\\rag-pipeline\\venv\\lib\\site-packages (from py2neo) (2020.7.3)\n",
      "Requirement already satisfied: pygments>=2.0.0 in d:\\abhay\\work\\projects\\test\\rag-pipeline\\venv\\lib\\site-packages (from py2neo) (2.18.0)\n",
      "Requirement already satisfied: six>=1.15.0 in d:\\abhay\\work\\projects\\test\\rag-pipeline\\venv\\lib\\site-packages (from py2neo) (1.16.0)\n",
      "Requirement already satisfied: urllib3 in d:\\abhay\\work\\projects\\test\\rag-pipeline\\venv\\lib\\site-packages (from py2neo) (2.2.1)\n",
      "Requirement already satisfied: pytz in d:\\abhay\\work\\projects\\test\\rag-pipeline\\venv\\lib\\site-packages (from interchange~=2021.0.4->py2neo) (2024.1)\n",
      "Note: you may need to restart the kernel to use updated packages.\n"
     ]
    },
    {
     "name": "stderr",
     "output_type": "stream",
     "text": [
      "\n",
      "[notice] A new release of pip is available: 24.0 -> 24.1.1\n",
      "[notice] To update, run: python.exe -m pip install --upgrade pip\n"
     ]
    }
   ],
   "source": [
    "%pip install py2neo"
   ]
  },
  {
   "cell_type": "code",
   "execution_count": 4,
   "metadata": {},
   "outputs": [
    {
     "name": "stderr",
     "output_type": "stream",
     "text": [
      "C:\\Users\\Abhay\\AppData\\Local\\Temp\\ipykernel_22320\\3983335161.py:1: DeprecationWarning: Importing Config from neo4j is deprecated without replacement. It's internal and will be removed in a future version.\n",
      "  from neo4j import GraphDatabase, basic_auth, Config\n"
     ]
    }
   ],
   "source": [
    "from neo4j import GraphDatabase, basic_auth, Config\n",
    "import ssl\n",
    "import logging\n",
    "uri = \"bolt://c24a04a8.databases.neo4j.io:7687\"\n",
    "username = \"neo4j\"\n",
    "password = \"TIEXesTzQ3V72Od9m-64Kpvd6AxVw8uB4fyvYODD_Jk\"\n",
    "\n",
    "# Create a custom SSL context that skips verification\n",
    "ssl_context = ssl.create_default_context()\n",
    "ssl_context.check_hostname = False\n",
    "ssl_context.verify_mode = ssl.CERT_NONE\n",
    "\n",
    "# Connect to Neo4j using the custom SSL context\n",
    "driver = GraphDatabase.driver(uri, auth=basic_auth(username, password), encrypted=True, ssl_context=ssl_context)\n",
    "\n",
    "def populate_knowledge_graph(docs):\n",
    "    with driver.session() as session:\n",
    "        for pdf_path, entities in docs:\n",
    "            doc_id = pdf_path.split(\"/\")[-1]  # Use file name as document ID\n",
    "            doc_type = \"Invoice\" if \"invoice\" in pdf_path.lower() else \"Contract\"\n",
    "            \n",
    "            for entity, label in entities:\n",
    "                session.run(\n",
    "                    \"MERGE (n:Entity {name: $name, document_type: $document_type, document_id: $document_id})\",\n",
    "                    name=entity, document_type=doc_type, document_id=doc_id\n",
    "                )\n",
    "\n",
    "folder_path = \"uploads\"\n",
    "processed_docs = process_documents_in_folder(folder_path)\n",
    "populate_knowledge_graph(processed_docs)\n"
   ]
  },
  {
   "cell_type": "code",
   "execution_count": 5,
   "metadata": {},
   "outputs": [
    {
     "data": {
      "application/vnd.jupyter.widget-view+json": {
       "model_id": "a5039654edde4535ac537b9c0543b291",
       "version_major": 2,
       "version_minor": 0
      },
      "text/plain": [
       "Fetching 5 files:   0%|          | 0/5 [00:00<?, ?it/s]"
      ]
     },
     "metadata": {},
     "output_type": "display_data"
    }
   ],
   "source": [
    "from fastembed import TextEmbedding\n",
    "\n",
    "embedding_model = TextEmbedding(model_name=\"BAAI/bge-small-en-v1.5\")\n",
    "\n",
    "def embed_entities(docs):\n",
    "    embeddings = {}\n",
    "    for _, entities in docs:\n",
    "        for entity, _ in entities:\n",
    "            if entity not in embeddings:\n",
    "                embeddings[entity] = embedding_model.embed(entity)\n",
    "    return embeddings\n",
    "\n",
    "entity_embeddings = embed_entities(processed_docs)"
   ]
  },
  {
   "cell_type": "code",
   "execution_count": 6,
   "metadata": {},
   "outputs": [
    {
     "name": "stdout",
     "output_type": "stream",
     "text": [
      "<function retrieve_information at 0x000001AB9908E3E0>\n",
      "========================================\n",
      "Michael Roberts is an American educator, author, and expert in the field of educational technology. He is the Chief Academic Officer at McGraw-Hill Education and has made significant contributions to the development of educational software and online learning platforms.\n",
      "\n",
      "Early Life and Education:\n",
      "\n",
      "Michael Roberts received his Bachelor's degree in Education from the University of Nebraska at Omaha and his Master's degree in Educational Technology from the University of Nebraska at Lincoln.\n",
      "\n",
      "Career:\n",
      "\n",
      "Michael began his career in education as a high school teacher in Omaha, Nebraska. He then joined the University of Nebraska at Omaha as an instructor in the Department of Education. In 2001, he left academia to join the McGraw-Hill Education team, where he has held various leadership roles, including Assistant Vice President, Product Management and Development.\n",
      "\n",
      "Recognition:\n",
      "\n",
      "Michael has received numerous awards and recognitions for his contributions to the field of educational technology. Some of his notable recognitions include:\n",
      "\n",
      "1. Educational Technology Magazine's \"Education Technology Leader of the Year\" award (2018)\n",
      "2. American Education Institute's \"Excellence in Education Technology\" award (2016)\n",
      "3. National Association of Student Television's \"Best Educational Technology Initiative\" award (2015)\n",
      "\n",
      "Research and Publications:\n",
      "\n",
      "Michael has authored and co-authored several white papers, articles, and book chapters on educational technology. Some of his notable publications include:\n",
      "\n",
      "1. \"The Future of Education: Trends, Predictions, and Possibilities\" (2018)\n",
      "2. \"Rethinking the Role of Technology in Education\" (2017)\n",
      "3. \"The Impact of Digital Learning on Student Engagement and Achievement\" (2016)\n",
      "\n",
      "Legacy:\n",
      "\n",
      "Michael's work has focused on leveraging technology to improve student outcomes and drive educational innovation. His contributions have significantly impacted the field of educational technology, and he continues to be a thought leader in the industry.\n"
     ]
    }
   ],
   "source": [
    "import llm_calls as lc\n",
    "\n",
    "def retrieve_information(query_text):\n",
    "    with driver.session() as session:\n",
    "        result = session.run(\n",
    "            \"MATCH (n) WHERE n.name CONTAINS $query_text RETURN n.name AS name\", \n",
    "            query_text=query_text\n",
    "        )\n",
    "        return [record[\"name\"] for record in result]\n",
    "\n",
    "\n",
    "\n",
    "\n",
    "query = \"Tell me about Michael Roberts\"\n",
    "retrieved_info = retrieve_information(query)\n",
    "print(retrieved_info)\n",
    "print(\"==\"*20)\n",
    "augmented_input = f\"Query: {query}\\nKnowledge Graph Info: {retrieved_info}\"\n",
    "response = lc.llm_generate(augmented_input)\n",
    "print(response)\n"
   ]
  }
 ],
 "metadata": {
  "kernelspec": {
   "display_name": "venv",
   "language": "python",
   "name": "python3"
  },
  "language_info": {
   "codemirror_mode": {
    "name": "ipython",
    "version": 3
   },
   "file_extension": ".py",
   "mimetype": "text/x-python",
   "name": "python",
   "nbconvert_exporter": "python",
   "pygments_lexer": "ipython3",
   "version": "3.12.3"
  }
 },
 "nbformat": 4,
 "nbformat_minor": 2
}
